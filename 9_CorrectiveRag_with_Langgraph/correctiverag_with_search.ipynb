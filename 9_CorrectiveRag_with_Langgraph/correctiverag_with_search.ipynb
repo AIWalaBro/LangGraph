{
 "cells": [
  {
   "cell_type": "code",
   "execution_count": 1,
   "metadata": {},
   "outputs": [],
   "source": [
    "from langchain_google_genai import GoogleGenerativeAIEmbeddings\n",
    "embeddings = GoogleGenerativeAIEmbeddings(model = \"models/embedding-001\")\n",
    "from langchain_google_genai import ChatGoogleGenerativeAI\n",
    "llm = ChatGoogleGenerativeAI(model = \"gemini-1.5-flash\")"
   ]
  },
  {
   "cell_type": "code",
   "execution_count": 2,
   "metadata": {},
   "outputs": [
    {
     "name": "stdout",
     "output_type": "stream",
     "text": [
      "## LangChain: Your Guide to Building Powerful LLM-Powered Applications\n",
      "\n",
      "Large Language Models (LLMs) are revolutionizing the way we interact with computers, but harnessing their full potential requires more than just API calls.  That's where LangChain comes in.  This powerful framework provides a structured and efficient way to build applications powered by LLMs, going far beyond simple prompt-response interactions.\n",
      "\n",
      "LangChain isn't just another library; it's a complete ecosystem designed to simplify the development process.  It offers a modular approach, allowing you to easily combine different components to create sophisticated applications tailored to your specific needs.  Let's explore some of its key features:\n",
      "\n",
      "**1. Modules for Every Stage:**\n",
      "\n",
      "LangChain excels in its organized structure.  It breaks down the LLM application development process into manageable modules:\n",
      "\n",
      "* **Models:**  Easily integrate with various LLMs, including OpenAI, Hugging Face, and others.  Switching between models becomes a simple configuration change.\n",
      "* **Prompts:**  Craft and manage prompts effectively.  LangChain offers tools for template creation, variable injection, and even chain-of-thought prompting for improved results.\n",
      "* **Indexes:**  Connect your LLMs to your own data.  Whether it's a PDF, a database, or a collection of documents, LangChain provides mechanisms to index and query this information, allowing your LLM to access and process your private knowledge base.  This is crucial for building applications that leverage specific, private information.\n",
      "* **Chains:**  Combine multiple components (LLMs, prompts, indexes) into complex workflows.  This allows you to build applications that involve multiple steps, such as summarizing a document, answering questions based on it, and then generating a follow-up email – all within a single, elegantly structured chain.\n",
      "* **Agents:**  Give your LLM the ability to interact with its environment.  Agents allow the LLM to decide which tools (like search engines, calculators, or even custom functions) to use to answer a question, making your applications far more versatile and capable.  This is where LangChain truly shines, enabling applications to go beyond simple question-answering.\n",
      "* **Memory:**  Maintain context across multiple interactions.  This is critical for building conversational applications where the LLM needs to remember previous exchanges to provide coherent and relevant responses.\n",
      "\n",
      "\n",
      "**2. Beyond Simple Prompt-Response:**\n",
      "\n",
      "LangChain empowers you to move beyond the limitations of simple prompt-response systems.  Features like agents and chains enable the creation of sophisticated applications that:\n",
      "\n",
      "* **Access and process external data:**  Answer questions based on your own private documents or databases.\n",
      "* **Perform complex tasks:**  Automate workflows involving multiple steps and external tools.\n",
      "* **Maintain conversational context:**  Build engaging and natural-feeling conversational agents.\n",
      "* **Adapt to different tasks:**  Easily switch between different LLMs and adapt your application to various scenarios.\n",
      "\n",
      "\n",
      "**3. Ease of Use and Extensibility:**\n",
      "\n",
      "LangChain is designed with developer experience in mind.  Its clean and intuitive API makes it easy to learn and use, even for developers with limited experience in LLM development.  Furthermore, its modular design allows for seamless integration with other libraries and tools, extending its capabilities even further.\n",
      "\n",
      "\n",
      "**Conclusion:**\n",
      "\n",
      "LangChain is a game-changer for anyone looking to build powerful and sophisticated applications using LLMs.  Its modular design, comprehensive features, and ease of use make it the ideal framework for creating the next generation of AI-powered applications.  Whether you're a seasoned developer or just starting your journey into the world of LLMs, LangChain is definitely worth exploring.  Dive in and start building your own innovative LLM-powered applications today!\n"
     ]
    }
   ],
   "source": [
    "result = llm.invoke(\"write blog about langchain\")\n",
    "print(result.content)"
   ]
  },
  {
   "cell_type": "markdown",
   "metadata": {},
   "source": [
    "# Creating Retriever"
   ]
  },
  {
   "cell_type": "code",
   "execution_count": null,
   "metadata": {},
   "outputs": [],
   "source": []
  }
 ],
 "metadata": {
  "kernelspec": {
   "display_name": "Python 3",
   "language": "python",
   "name": "python3"
  },
  "language_info": {
   "codemirror_mode": {
    "name": "ipython",
    "version": 3
   },
   "file_extension": ".py",
   "mimetype": "text/x-python",
   "name": "python",
   "nbconvert_exporter": "python",
   "pygments_lexer": "ipython3",
   "version": "3.10.16"
  }
 },
 "nbformat": 4,
 "nbformat_minor": 2
}
